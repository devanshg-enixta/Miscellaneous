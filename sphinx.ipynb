{
 "cells": [
  {
   "cell_type": "code",
   "execution_count": 2,
   "metadata": {},
   "outputs": [],
   "source": [
    "import speech_recognition as sr\n",
    "from os import path\n",
    "import subprocess\n",
    "import sys\n",
    "def speech_recognizer(path,file,start=0.0,end=0):\n",
    "    try:\n",
    "        os.remove(path+\"/videos/out.wav\")\n",
    "    except OSError:\n",
    "        pass\n",
    "\n",
    "    filename = file.split('.')[0]\n",
    "    if(end>0):\n",
    "        start = start - 1.0\n",
    "        command = \"ffmpeg -i \"+ path+\"/videos/\"+file+\" -ss \"+str(start)+\" -to \"+str(end)+\" -acodec copy \"+path+\"/videos/out.wav\"\n",
    "        subprocess.call(command, shell=True)\n",
    "        AUDIO_FILE =  \"out.wav\"\n",
    "    elif end == 0:\n",
    "        AUDIO_FILE =  file       \n",
    "    r = sr.Recognizer()\n",
    "    with sr.AudioFile(path+\"/videos/\"+AUDIO_FILE) as source:\n",
    "        r.adjust_for_ambient_noise(source)\n",
    "        audio = r.record(source)  # read the entire audio file\n",
    "\n",
    "    try:\n",
    "        r = r.recognize_sphinx(audio)\n",
    "        print r\n",
    "        return r\n",
    "    except sr.UnknownValueError:\n",
    "       # os.remove(\"out.wav\")\n",
    "        print(\"Sphinx could not understand audio\")\n",
    "        return \n",
    "    except sr.RequestError as e:\n",
    "       # os.remove(\"out.wav\")\n",
    "        print(\"Sphinx error; {0}\".format(e))\n",
    "        return\n",
    "\n",
    "\n",
    "def extract_audio(filename, channels=1, rate=44100):\n",
    "    temp = tempfile.NamedTemporaryFile(suffix='.wav', delete=False)\n",
    "    if not os.path.isfile(filename):\n",
    "        print (\"The given file does not exist: {0}\".format(filename))\n",
    "        raise Exception(\"Invalid filepath: {0}\".format(filename))\n",
    "    if not which(\"ffmpeg\"):\n",
    "        print (\"ffmpeg: Executable not found on machine.\")\n",
    "        raise Exception(\"Dependency not found: ffmpeg\")\n",
    "    command = [\"ffmpeg\", \"-y\", \"-i\", filename, \"-ac\", str(channels), \"-ar\", str(rate), \"-loglevel\", \"error\", temp.name]\n",
    "    use_shell = True if os.name == \"nt\" else False\n",
    "    subprocess.check_output(command, stdin=open(os.devnull), shell=use_shell)\n",
    "    return temp.name, rate\n",
    "\n",
    "\n",
    "\n"
   ]
  },
  {
   "cell_type": "code",
   "execution_count": 3,
   "metadata": {},
   "outputs": [],
   "source": [
    "\n",
    "def percentile(arr, percent):\n",
    "    arr = sorted(arr)\n",
    "    k = (len(arr) - 1) * percent\n",
    "    f = math.floor(k)\n",
    "    c = math.ceil(k)\n",
    "    if f == c: return arr[int(k)]\n",
    "    d0 = arr[int(f)] * (c - k)\n",
    "    d1 = arr[int(c)] * (k - f)\n",
    "    return d0 + d1\n",
    "\n"
   ]
  },
  {
   "cell_type": "code",
   "execution_count": 10,
   "metadata": {},
   "outputs": [],
   "source": [
    "import subprocess, sys\n",
    "from pytube import YouTube\n",
    "import pysrt\n",
    "import os\n",
    "import shutil\n",
    "import requests\n",
    "from __future__ import absolute_import, print_function, unicode_literals\n",
    "import argparse\n",
    "import audioop\n",
    "import json\n",
    "import math\n",
    "import multiprocessing\n",
    "import os\n",
    "import requests\n",
    "import subprocess\n",
    "import sys\n",
    "import tempfile\n",
    "import wave\n",
    "\n",
    "path = os.getcwd()\n",
    "if not os.path.exists(os.path.dirname(path+\"/videos/\")):\n",
    "    os.makedirs(os.path.dirname(path+\"/videos/\"))\n",
    "\n",
    "if not os.path.exists(os.path.dirname(path+\"/videos_text/\")):\n",
    "    os.makedirs(os.path.dirname(path+\"/videos_text/\"))\n",
    "\n",
    "def autosub_func(path,name,srt,lan):     \n",
    "    command = \"python /Library/Frameworks/Python.framework/Versions/2.7/lib/python2.7/site-packages/autosub/autosub_app.py -S en -D en  \"+path+\"/videos/\"+name\n",
    "    subprocess.call(command, shell=True)\n",
    "    srt = srt.replace(\"_\"+lan,\"\")\n",
    "    print(\"!!!!!!!!!!\")\n",
    "    print (srt)\n",
    "    shutil.move(path+\"/videos/\"+srt, path+\"/videos_text/\"+srt.split('.')[0].strip()+\"_\"+lan+\".srt\")\n",
    "\n",
    "def cmu(path,file,srt):\n",
    "#    filename ,rate = extract_audio(path+\"/videos/\"+file)\n",
    "    print (srt)\n",
    "    filename = srt.split('.srt')[0].strip()+\".wav\"\n",
    "    print (filename,file)\n",
    "    command = \"ffmpeg -i \"+path+\"/videos/\"+file+\" -ab 160k -ac 2 -ar 44100 -vn \"+path+\"/videos/\"+filename\n",
    "    subprocess.call(command, shell=True)\n",
    "    regions = find_speech_regions(path+\"/videos/\"+filename)\n",
    "    with open(path+\"/videos_text/\"+srt,\"w+\") as writer:\n",
    "        for i in range(0,len(regions)):\n",
    "            recognizer = speech_recognizer(path,filename,regions[i][0],regions[i][1])\n",
    "            writer.write(\"%s\\n\"%str(i+1))                \n",
    "            sec, micro = str(regions[i][0]).split('.')\n",
    "            m, s = divmod(int(sec), 60)\n",
    "            h, m = divmod(m, 60)\n",
    "            time= \"{:02}:{:02}:{:02},{}\".format(h,m,s,micro)\n",
    "            writer.write(\"%s\"%time)        \n",
    "            writer.write(\" --> \")\n",
    "            sec, micro = str(regions[i][1]).split('.')\n",
    "            m, s = divmod(int(sec), 60)\n",
    "            h, m = divmod(m, 60)\n",
    "            time1= \"{:02}:{:02}:{:02},{}\".format(h,m,s,micro)\n",
    "            writer.write(\"%s\"%time1)\n",
    "            writer.write(\"\\n\")\n",
    "            writer.write(\"%s\"%recognizer)\n",
    "            writer.write(\"\\n\\n\")\n",
    "\n",
    "    \n",
    "\n",
    "def download_file(path,url):\n",
    "    vid_form = [\".3G2\",\".3GP\",\".ASF\",\".AVI\",\".FLV\",\".M4V\",\".MOV\",\".MP4\",\".MPG\",\".RM\",\".SRT\",\".SWF\",\".VOB\",\".WMV\",\".webm\"]\n",
    "    flag=0\n",
    "    local_filename = url.split('/')[-1]\n",
    "\n",
    "    for i in vid_form:\n",
    "        if i.lower() in local_filename:\n",
    "            flag =1\n",
    "            x = local_filename.split(i.lower())[0]+i.lower()\n",
    "    if flag==1:\n",
    "        r = requests.get(url, stream=True)\n",
    "        with open(path+\"/videos/\"+x, 'wb') as f:\n",
    "            shutil.copyfileobj(r.raw, f)\n",
    "    else:\n",
    "        x = local_filename+\".mp4\"\n",
    "        r = requests.get(url, stream=True)\n",
    "        with open(path+\"/videos/\"+x, 'wb') as f:\n",
    "            shutil.copyfileobj(r.raw, f)\n",
    "    return x\n",
    "def video_to_text(name):\n",
    "    lan = name[:2]\n",
    "    name = name[2:]\n",
    "    \n",
    "    ################################ Downlaoding from Youtube ##################################\n",
    "    if \"yout\" in name:\n",
    "        out_name =  name.split('/')[-1]+\".mp4\"\n",
    "        cmd = \"youtube-dl -o \"+path+\"/videos/\"+out_name+\" -f mp4 \" + name\n",
    "        subprocess.call(cmd, shell=True)\n",
    "    ################################ Downlaoding from A Given Video-Link ##################################\n",
    "    elif \"https://\" in name:\n",
    "        out_name = download_file(path,name) \n",
    "    ################################ From the local file ##################################\n",
    "    else:\n",
    "        try:\n",
    "            out_name = name.replace(\".com\",\"\").replace(\" \",\"_\")\n",
    "            print(out_name)\n",
    "            os.rename(path+\"/videos/\"+name,path+\"/videos/\"+out_name)\n",
    "        except:\n",
    "            out_name=name\n",
    "        \n",
    "    srt = out_name.split('.')[0].strip()+\"_\"+lan+\".srt\"  \n",
    "    print (srt)\n",
    "    if lan == 'in':\n",
    "        print (\"inside autosub\")\n",
    "        autosub_func(path,out_name,srt,lan)\n",
    "        return get_srt_to_txt(path,srt)\n",
    "    if lan == 'us':\n",
    "        print (\"inside cmu\")\n",
    "        #cmu(path,out_name,srt)\n",
    "   #     filename,rate = extract_audio(path+\"/videos/\"+out_name)\n",
    "        filename = srt.split('.srt')[0].strip()+\".wav\"\n",
    "        print(\"out_name\",out_name)\n",
    "        command = \"ffmpeg -i \"+path+\"/videos/\"+out_name+\" -ab 160k -ac 2 -ar 44100 -vn \"+path+\"/videos/\"+filename\n",
    "        subprocess.call(command, shell=True)\n",
    "        return speech_recognizer(path,filename)\n",
    "\n",
    "\n",
    "def get_srt_to_txt(path,srt):\n",
    "    sub=\"\"\n",
    "    subs = pysrt.open(path+\"/videos_text/\"+srt, encoding='iso-8859-1')\n",
    "    text = open(path+\"/videos_text/\"+srt.split('.srt')[0].strip()+\".txt\",\"wb+\")\n",
    "    txt = subs[0].text\n",
    "    sub_len = len(subs)\n",
    "    for i in range(1,sub_len):\n",
    "        if ((subs[i].start.minutes*60*1000 + subs[i].start.seconds*1000+subs[i].start.milliseconds) - ((subs[i-1].end.minutes*60*1000 + subs[i-1].end.seconds*1000+subs[i-1].end.milliseconds))) < 500: \n",
    "            txt = txt + \" \"+subs[i].text.lower()\n",
    "        else:\n",
    "            txt = txt + \". \"\n",
    "            text.write(txt)\n",
    "            sub = sub +txt\n",
    "            txt = subs[i].text\n",
    "    if sub ==\"\":\n",
    "        return \"No subtitles formed\"\n",
    "\n",
    "    return sub\n",
    "\n",
    "\n"
   ]
  },
  {
   "cell_type": "code",
   "execution_count": 78,
   "metadata": {},
   "outputs": [],
   "source": [
    "text=\"Kristoff with soldering iron in this video I will be about the six main criteria death make or break form design in quarry. Korean colours. Interface update camera quality battery life and try starting right now infra 17 a few interesting new things happened to fall for bigger and entellus cream. And II will forget very expensive. And the most expensive of them all is the new iPhone 10. Apple's $1,000 iPhone looks. Quizzes for the knot. It is especially important but you get used to that would cut out. That is also a fake Id is on the iPhone 10. The new three face recognition system works surprisingly well in many cases but it is a slower in a bit less accurate. Fingerprint scanner. IPhone has a good looking design screen look gorgeous it is guaranteed to get software update for long time restaurants near me and has a great camera. Battery life is just average stomach virus going to sony iphone 8 plus nios ii has going to notifications my phone i am just rest for the $1,000. And then there be iPhone 8 and iPhone. Suppose you have just call them this 7s and 7s Plus stable comma exactly like last year's iphone. Paytm cashback. Yes the design is a bit boring but it option. Vaibhav improving to main area. Performance with appointments. Is the fastest on any phone emirates how to add yaar really stunning colours. Ambattur wondering the main camera selfie. Beautiful photo as on the iPhone 10. And one more thing the new iphone now supports wireless charging it might be nice but it's slower than what is charging and you cant use your phone was charging we go straight to the land of the free android with the samsung galaxy note 8. That it has one unit t-shirt espn spouses cold enough it was great. Great phone overall has two cameras in shrewsbury good looking for teachers. It has a stylish glass and metal body NS short super good looking screen and solid battery life. Smoke effect no phone is. The know that my baby. Beck so many people coc new 8000 dollars. IPhone and don't expect get android update directly google pixel 2 xl does form ever made basna. The main reason for that is the screen is so matte screen did get it pursuant when is the fox life. NS suffers from Britain an issue with all outlets space very quickly on the pic. How to excel. YouCam perfect screen the pixel 2 XL is it we fall. Buttery smooth performance latest android software jayanti day 1 update and for me a best camera ever put on a phone it's too pricey but cops versus iphone 10 and the note. LG v30 is the best phone LG has ever made. It's our favourite. When it comes piggy bank with basil. The LG v30 has mh12 play almost no bezel no not know cause no interruption. Hey beautiful birth wishes to somebody song with ly dishes with colours this is not is better than the pixel 2 xl but it's too something to know about. Royal digital if interest rate is not perfect text book it is function. If it is very good picture sent know what a fraction form has it super wide angle camera. Ravi Taori also look stylish relation has a baba farid battery life. The oneplus 5t. Paper for the ball flagship phone it is just that for half the price of the policy of just mention. Oneplus 5t delivery similar performance. It has H2H beautiful 6 inch amoled screen has a very fast rashmi performance. It has a stylish metal design in solid battery life. If camera is the only thing that is not buy that girl is another flagship. What is definite too far behind don't forget that the oneplus 5t she is only $4 mv not working hd images like verizon. Springdale United States. Great phone you should not miss is the word made santro vivacious is it wrong to become the world's biggest homemaker. Find Apple and Samsung and the mate 10 pro is is most who is the phone. It is a big phone with a trendy basil extreme stylish glass and metal design islamic colours it has a good looking this play has longer battery life then moves from this place. Now is custom Android interface just take without getting used to super functional and if you want to be different this is a solid choice. There are a few other options keep in mind. Samsung Galaxy S8 Galaxy yes it was her now so that big discount tangled 2 full form premium design in great cameras smart price. The smaller pixel 2 has an amazing camera and doesn't cost proportion was it has no display issues white sibling. Go to excel. Combine this with buttermilk performance and the guarantee for Dev on Android update. And this is our phone worth considering. Finally there is the essential phone. Don't be so for just $450 the essential phone is essentially a steel. It is one of the best designs of 2017 within a split screen in a very compact body scratch resistant ceramic back like no other means she found it is getting software updates on a very regular basis. Is too doesn't have a great camera but if you're willing to deal with a mediocre camera it's a great and very affordable option. These are all favourite phones of 2017 birthday many more worth considering phone by sony show me motorola in many others did not make it in this list define options. So. What is your favourite phone of the year. What is your favourite new feature what is the thing that most love about it.\""
   ]
  },
  {
   "cell_type": "code",
   "execution_count": 19,
   "metadata": {
    "scrolled": true
   },
   "outputs": [
    {
     "name": "stdout",
     "output_type": "stream",
     "text": [
      "\n"
     ]
    },
    {
     "data": {
      "text/plain": [
       "''"
      ]
     },
     "execution_count": 19,
     "metadata": {},
     "output_type": "execute_result"
    }
   ],
   "source": [
    "speech_recognizer(path,\"out_us.wav\")"
   ]
  },
  {
   "cell_type": "code",
   "execution_count": 80,
   "metadata": {},
   "outputs": [],
   "source": [
    "text=\"uswatch?v=Meif6leYjmc.mp4\""
   ]
  },
  {
   "cell_type": "code",
   "execution_count": 71,
   "metadata": {},
   "outputs": [
    {
     "data": {
      "text/plain": [
       "u'2014 Mercedes-Benz C200 _ Expert Review _ CarDekho.com-kvAKyNYy1_A.mp4'"
      ]
     },
     "execution_count": 71,
     "metadata": {},
     "output_type": "execute_result"
    }
   ],
   "source": [
    "text[2:]"
   ]
  },
  {
   "cell_type": "code",
   "execution_count": 84,
   "metadata": {},
   "outputs": [
    {
     "name": "stdout",
     "output_type": "stream",
     "text": [
      "uswatch?v=Meif6leYjmc.mp4\n"
     ]
    }
   ],
   "source": [
    "print (text)"
   ]
  },
  {
   "cell_type": "code",
   "execution_count": 85,
   "metadata": {},
   "outputs": [],
   "source": [
    "from pydub import AudioSegment\n",
    "from pydub.playback import play"
   ]
  },
  {
   "cell_type": "code",
   "execution_count": 89,
   "metadata": {},
   "outputs": [],
   "source": [
    "sound_stereo = AudioSegment.from_file(\"videos/index_us_us.wav\", format=\"mp3\")\n",
    "sound_monoL = sound_stereo.split_to_mono()[0]\n",
    "sound_monoR = sound_stereo.split_to_mono()[1]\n"
   ]
  },
  {
   "cell_type": "code",
   "execution_count": 90,
   "metadata": {},
   "outputs": [],
   "source": [
    "sound_monoR_inv = sound_monoR.invert_phase()"
   ]
  },
  {
   "cell_type": "code",
   "execution_count": 91,
   "metadata": {},
   "outputs": [],
   "source": [
    "sound_CentersOut = sound_monoL.overlay(sound_monoR_inv)"
   ]
  },
  {
   "cell_type": "code",
   "execution_count": 92,
   "metadata": {},
   "outputs": [],
   "source": [
    "fh = sound_CentersOut.export(\"new_file.mp3\", format=\"mp3\")"
   ]
  },
  {
   "cell_type": "code",
   "execution_count": 94,
   "metadata": {},
   "outputs": [],
   "source": [
    "fh = sound_monoR.export(\"new_file_R.mp3\", format=\"mp3\")"
   ]
  },
  {
   "cell_type": "code",
   "execution_count": 95,
   "metadata": {},
   "outputs": [],
   "source": [
    "fh = sound_monoL.export(\"new_file_L.mp3\", format=\"mp3\")"
   ]
  },
  {
   "cell_type": "code",
   "execution_count": 99,
   "metadata": {},
   "outputs": [
    {
     "data": {
      "image/png": "[encoded data removed]",
      "text/plain": [
       "<matplotlib.figure.Figure at 0x10694a610>"
      ]
     },
     "metadata": {},
     "output_type": "display_data"
    }
   ],
   "source": [
    "from scipy.io import wavfile\n",
    "from matplotlib import pyplot as plt\n",
    "import numpy as np\n",
    "\n",
    "# Load the data and calculate the time of each sample\n",
    "samplerate, data = wavfile.read('videos/index_us_us.wav')\n",
    "times = np.arange(len(data))/float(samplerate)\n",
    "\n",
    "# Make the plot\n",
    "# You can tweak the figsize (width, height) in inches\n",
    "plt.figure(figsize=(50, 5))\n",
    "plt.fill_between(times, data[:,0], data[:,1], color='k') \n",
    "plt.xlim(times[0], times[-1])\n",
    "plt.xlabel('time (s)')\n",
    "plt.ylabel('amplitude')\n",
    "# You can set the format by changing the extension\n",
    "# like .pdf, .svg, .eps\n",
    "#plt.savefig('plot.png', dpi=100)\n",
    "plt.show()"
   ]
  },
  {
   "cell_type": "code",
   "execution_count": 5,
   "metadata": {},
   "outputs": [],
   "source": [
    "sec, micro = 10,4954195011\n",
    "m, s = divmod(int(sec), 60)\n",
    "h, m = divmod(m, 60)\n",
    "time= \"{:02}:{:02}:{:02},{}\".format(h,m,s,micro)\n",
    " "
   ]
  },
  {
   "cell_type": "code",
   "execution_count": 13,
   "metadata": {},
   "outputs": [],
   "source": [
    "micro = int(str(micro)[:3])"
   ]
  },
  {
   "cell_type": "code",
   "execution_count": 14,
   "metadata": {},
   "outputs": [
    {
     "data": {
      "text/plain": [
       "495"
      ]
     },
     "execution_count": 14,
     "metadata": {},
     "output_type": "execute_result"
    }
   ],
   "source": [
    "(micro)"
   ]
  },
  {
   "cell_type": "code",
   "execution_count": 15,
   "metadata": {},
   "outputs": [],
   "source": [
    "import pandas as pd\n"
   ]
  },
  {
   "cell_type": "code",
   "execution_count": 16,
   "metadata": {},
   "outputs": [
    {
     "ename": "ParserError",
     "evalue": "Error tokenizing data. C error: Expected 1 fields in line 261393, saw 3\n",
     "output_type": "error",
     "traceback": [
      "\u001b[0;31m---------------------------------------------------------------------------\u001b[0m",
      "\u001b[0;31mParserError\u001b[0m                               Traceback (most recent call last)",
      "\u001b[0;32m<ipython-input-16-563fbf2927da>\u001b[0m in \u001b[0;36m<module>\u001b[0;34m()\u001b[0m\n\u001b[0;32m----> 1\u001b[0;31m \u001b[0mx\u001b[0m \u001b[0;34m=\u001b[0m\u001b[0mpd\u001b[0m\u001b[0;34m.\u001b[0m\u001b[0mread_csv\u001b[0m\u001b[0;34m(\u001b[0m\u001b[0;34m\"dict.txt\"\u001b[0m\u001b[0;34m)\u001b[0m\u001b[0;34m\u001b[0m\u001b[0m\n\u001b[0m",
      "\u001b[0;32m/Users/devansh/jn/lib/python2.7/site-packages/pandas/io/parsers.pyc\u001b[0m in \u001b[0;36mparser_f\u001b[0;34m(filepath_or_buffer, sep, delimiter, header, names, index_col, usecols, squeeze, prefix, mangle_dupe_cols, dtype, engine, converters, true_values, false_values, skipinitialspace, skiprows, nrows, na_values, keep_default_na, na_filter, verbose, skip_blank_lines, parse_dates, infer_datetime_format, keep_date_col, date_parser, dayfirst, iterator, chunksize, compression, thousands, decimal, lineterminator, quotechar, quoting, escapechar, comment, encoding, dialect, tupleize_cols, error_bad_lines, warn_bad_lines, skipfooter, skip_footer, doublequote, delim_whitespace, as_recarray, compact_ints, use_unsigned, low_memory, buffer_lines, memory_map, float_precision)\u001b[0m\n\u001b[1;32m    707\u001b[0m                     skip_blank_lines=skip_blank_lines)\n\u001b[1;32m    708\u001b[0m \u001b[0;34m\u001b[0m\u001b[0m\n\u001b[0;32m--> 709\u001b[0;31m         \u001b[0;32mreturn\u001b[0m \u001b[0m_read\u001b[0m\u001b[0;34m(\u001b[0m\u001b[0mfilepath_or_buffer\u001b[0m\u001b[0;34m,\u001b[0m \u001b[0mkwds\u001b[0m\u001b[0;34m)\u001b[0m\u001b[0;34m\u001b[0m\u001b[0m\n\u001b[0m\u001b[1;32m    710\u001b[0m \u001b[0;34m\u001b[0m\u001b[0m\n\u001b[1;32m    711\u001b[0m     \u001b[0mparser_f\u001b[0m\u001b[0;34m.\u001b[0m\u001b[0m__name__\u001b[0m \u001b[0;34m=\u001b[0m \u001b[0mname\u001b[0m\u001b[0;34m\u001b[0m\u001b[0m\n",
      "\u001b[0;32m/Users/devansh/jn/lib/python2.7/site-packages/pandas/io/parsers.pyc\u001b[0m in \u001b[0;36m_read\u001b[0;34m(filepath_or_buffer, kwds)\u001b[0m\n\u001b[1;32m    453\u001b[0m \u001b[0;34m\u001b[0m\u001b[0m\n\u001b[1;32m    454\u001b[0m     \u001b[0;32mtry\u001b[0m\u001b[0;34m:\u001b[0m\u001b[0;34m\u001b[0m\u001b[0m\n\u001b[0;32m--> 455\u001b[0;31m         \u001b[0mdata\u001b[0m \u001b[0;34m=\u001b[0m \u001b[0mparser\u001b[0m\u001b[0;34m.\u001b[0m\u001b[0mread\u001b[0m\u001b[0;34m(\u001b[0m\u001b[0mnrows\u001b[0m\u001b[0;34m)\u001b[0m\u001b[0;34m\u001b[0m\u001b[0m\n\u001b[0m\u001b[1;32m    456\u001b[0m     \u001b[0;32mfinally\u001b[0m\u001b[0;34m:\u001b[0m\u001b[0;34m\u001b[0m\u001b[0m\n\u001b[1;32m    457\u001b[0m         \u001b[0mparser\u001b[0m\u001b[0;34m.\u001b[0m\u001b[0mclose\u001b[0m\u001b[0;34m(\u001b[0m\u001b[0;34m)\u001b[0m\u001b[0;34m\u001b[0m\u001b[0m\n",
      "\u001b[0;32m/Users/devansh/jn/lib/python2.7/site-packages/pandas/io/parsers.pyc\u001b[0m in \u001b[0;36mread\u001b[0;34m(self, nrows)\u001b[0m\n\u001b[1;32m   1067\u001b[0m                 \u001b[0;32mraise\u001b[0m \u001b[0mValueError\u001b[0m\u001b[0;34m(\u001b[0m\u001b[0;34m'skipfooter not supported for iteration'\u001b[0m\u001b[0;34m)\u001b[0m\u001b[0;34m\u001b[0m\u001b[0m\n\u001b[1;32m   1068\u001b[0m \u001b[0;34m\u001b[0m\u001b[0m\n\u001b[0;32m-> 1069\u001b[0;31m         \u001b[0mret\u001b[0m \u001b[0;34m=\u001b[0m \u001b[0mself\u001b[0m\u001b[0;34m.\u001b[0m\u001b[0m_engine\u001b[0m\u001b[0;34m.\u001b[0m\u001b[0mread\u001b[0m\u001b[0;34m(\u001b[0m\u001b[0mnrows\u001b[0m\u001b[0;34m)\u001b[0m\u001b[0;34m\u001b[0m\u001b[0m\n\u001b[0m\u001b[1;32m   1070\u001b[0m \u001b[0;34m\u001b[0m\u001b[0m\n\u001b[1;32m   1071\u001b[0m         \u001b[0;32mif\u001b[0m \u001b[0mself\u001b[0m\u001b[0;34m.\u001b[0m\u001b[0moptions\u001b[0m\u001b[0;34m.\u001b[0m\u001b[0mget\u001b[0m\u001b[0;34m(\u001b[0m\u001b[0;34m'as_recarray'\u001b[0m\u001b[0;34m)\u001b[0m\u001b[0;34m:\u001b[0m\u001b[0;34m\u001b[0m\u001b[0m\n",
      "\u001b[0;32m/Users/devansh/jn/lib/python2.7/site-packages/pandas/io/parsers.pyc\u001b[0m in \u001b[0;36mread\u001b[0;34m(self, nrows)\u001b[0m\n\u001b[1;32m   1837\u001b[0m     \u001b[0;32mdef\u001b[0m \u001b[0mread\u001b[0m\u001b[0;34m(\u001b[0m\u001b[0mself\u001b[0m\u001b[0;34m,\u001b[0m \u001b[0mnrows\u001b[0m\u001b[0;34m=\u001b[0m\u001b[0mNone\u001b[0m\u001b[0;34m)\u001b[0m\u001b[0;34m:\u001b[0m\u001b[0;34m\u001b[0m\u001b[0m\n\u001b[1;32m   1838\u001b[0m         \u001b[0;32mtry\u001b[0m\u001b[0;34m:\u001b[0m\u001b[0;34m\u001b[0m\u001b[0m\n\u001b[0;32m-> 1839\u001b[0;31m             \u001b[0mdata\u001b[0m \u001b[0;34m=\u001b[0m \u001b[0mself\u001b[0m\u001b[0;34m.\u001b[0m\u001b[0m_reader\u001b[0m\u001b[0;34m.\u001b[0m\u001b[0mread\u001b[0m\u001b[0;34m(\u001b[0m\u001b[0mnrows\u001b[0m\u001b[0;34m)\u001b[0m\u001b[0;34m\u001b[0m\u001b[0m\n\u001b[0m\u001b[1;32m   1840\u001b[0m         \u001b[0;32mexcept\u001b[0m \u001b[0mStopIteration\u001b[0m\u001b[0;34m:\u001b[0m\u001b[0;34m\u001b[0m\u001b[0m\n\u001b[1;32m   1841\u001b[0m             \u001b[0;32mif\u001b[0m \u001b[0mself\u001b[0m\u001b[0;34m.\u001b[0m\u001b[0m_first_chunk\u001b[0m\u001b[0;34m:\u001b[0m\u001b[0;34m\u001b[0m\u001b[0m\n",
      "\u001b[0;32mpandas/_libs/parsers.pyx\u001b[0m in \u001b[0;36mpandas._libs.parsers.TextReader.read\u001b[0;34m()\u001b[0m\n",
      "\u001b[0;32mpandas/_libs/parsers.pyx\u001b[0m in \u001b[0;36mpandas._libs.parsers.TextReader._read_low_memory\u001b[0;34m()\u001b[0m\n",
      "\u001b[0;32mpandas/_libs/parsers.pyx\u001b[0m in \u001b[0;36mpandas._libs.parsers.TextReader._read_rows\u001b[0;34m()\u001b[0m\n",
      "\u001b[0;32mpandas/_libs/parsers.pyx\u001b[0m in \u001b[0;36mpandas._libs.parsers.TextReader._tokenize_rows\u001b[0;34m()\u001b[0m\n",
      "\u001b[0;32mpandas/_libs/parsers.pyx\u001b[0m in \u001b[0;36mpandas._libs.parsers.raise_parser_error\u001b[0;34m()\u001b[0m\n",
      "\u001b[0;31mParserError\u001b[0m: Error tokenizing data. C error: Expected 1 fields in line 261393, saw 3\n"
     ]
    }
   ],
   "source": [
    "x =pd.read_csv(\"dict.txt\")"
   ]
  },
  {
   "cell_type": "code",
   "execution_count": 20,
   "metadata": {},
   "outputs": [],
   "source": [
    "import speech_recognition as sr\n",
    "from os import path\n",
    "import subprocess\n",
    "import sys\n",
    "def find_speech_regions(filename, frame_width=4096, min_region_size=8, max_region_size=15):\n",
    "    reader = wave.open(filename)\n",
    "    sample_width = reader.getsampwidth()\n",
    "    rate = reader.getframerate()\n",
    "    n_channels = reader.getnchannels()\n",
    "    chunk_duration = float(frame_width) / rate\n",
    "\n",
    "    n_chunks = int(math.ceil(reader.getnframes()*1.0 / frame_width))\n",
    "    energies = []\n",
    "\n",
    "    for i in range(n_chunks):\n",
    "        chunk = reader.readframes(frame_width)\n",
    "        energies.append(audioop.rms(chunk, sample_width * n_channels))\n",
    "\n",
    "    threshold = percentile(energies, 0.2)\n",
    "\n",
    "    elapsed_time = 0\n",
    "\n",
    "    regions = []\n",
    "    region_start = None\n",
    "    #print energies\n",
    "    for energy in energies:\n",
    "        \n",
    "        is_silence = energy <= threshold\n",
    "        max_exceeded = region_start and elapsed_time - region_start >= max_region_size\n",
    "\n",
    "        if (max_exceeded or is_silence) and region_start:\n",
    "           # print energy\n",
    "            if elapsed_time - region_start >= min_region_size:\n",
    "                regions.append((region_start, elapsed_time))\n",
    "                #print regions,\"region\"\n",
    "                region_start = elapsed_time\n",
    "\n",
    "        elif (not region_start) and (not is_silence):\n",
    "            #print elapsed_time,\"elasped_start\"\n",
    "            region_start = elapsed_time\n",
    "            #print region_start,\"start\"\n",
    "        elapsed_time += chunk_duration\n",
    "    return regions\n",
    "def add_sil(wav):\n",
    "    from pydub import AudioSegment\n",
    "    from pydub.playback import play\n",
    "\n",
    "    audio_in_file = wav\n",
    "\n",
    "    # create 1 sec of silence audio segment\n",
    "    one_sec_segment = AudioSegment.silent(duration=2000)  #duration in milliseconds\n",
    "    print (one_sec_segment)\n",
    "    #read wav file to an audio segment\n",
    "    song = AudioSegment.from_wav(audio_in_file)\n",
    "\n",
    "    #Add above two audio segments    \n",
    "    final_song = one_sec_segment + song + one_sec_segment\n",
    "\n",
    "    #Either save modified audio\n",
    "    final_song.export(audio_in_file, format=\"wav\")\n",
    "    \n",
    "def split_autosub(filename,file):\n",
    "    txt =\"\"\n",
    "    cmd = \"youtube-dl -o \"+filename+\" -f mp4 \" + file\n",
    "    subprocess.call(cmd, shell=True)\n",
    "    print (filename,file)\n",
    "    wav_file = filename.split('.mp4')[0]+\".wav\"\n",
    "    command = \"ffmpeg -i \"+filename+\" -ab 160k -ac 1 -ar 16000 \"+wav_file\n",
    "    subprocess.call(command, shell=True)\n",
    "    regions = find_speech_regions(wav_file)\n",
    "    for i in range(0,len(regions)): \n",
    "        command = \"ffmpeg -i \"+ wav_file+\" -ss \"+str(regions[i][0])+\" -to \"+str(regions[i][1])+\" -acodec copy out.wav\"\n",
    "        subprocess.call(command, shell=True)\n",
    "        add_sil(\"out.wav\")\n",
    "        command = \"autosub -S en -D en out\"+str(i)+\".wav\"\n",
    "        subprocess.call(command, shell=True)\n",
    "        srt = \"out.srt\"\n",
    "        subs = pysrt.open(srt, encoding='iso-8859-1')\n",
    "        txt = txt+ subs[0].text+\" \"\n",
    "        try:\n",
    "            os.remove(\"out.srt\")\n",
    "            os.remove(\"out.wav\")\n",
    "        except:\n",
    "            pass\n",
    "            \n",
    "        \n",
    " \n",
    "        \n",
    "\n",
    "from pydub import AudioSegment\n",
    "import glob,os\n",
    "def detect_leading_silence(sound, silence_threshold=-50.0, chunk_size=10):\n",
    "    '''\n",
    "    sound is a pydub.AudioSegment\n",
    "    silence_threshold in dB\n",
    "    chunk_size in ms\n",
    "\n",
    "    iterate over chunks until you find the first one with sound\n",
    "    '''\n",
    "    trim_ms = 0 # ms\n",
    "\n",
    "    assert chunk_size > 0 # to avoid infinite loop\n",
    "    while sound[trim_ms:trim_ms+chunk_size].dBFS < silence_threshold and trim_ms < len(sound):\n",
    "        trim_ms += chunk_size\n",
    "\n",
    "    return trim_ms\n",
    "\n",
    "\n"
   ]
  },
  {
   "cell_type": "code",
   "execution_count": 6,
   "metadata": {},
   "outputs": [
    {
     "name": "stdout",
     "output_type": "stream",
     "text": [
      "daddji.mp4 https://youtu.be/cuaZ1Ba8eZ8\n"
     ]
    }
   ],
   "source": [
    "split_autosub(\"daddji.mp4\",\"https://youtu.be/cuaZ1Ba8eZ8\")"
   ]
  },
  {
   "cell_type": "code",
   "execution_count": null,
   "metadata": {},
   "outputs": [],
   "source": []
  }
 ],
 "metadata": {
  "kernelspec": {
   "display_name": "Python 2",
   "language": "python",
   "name": "python2"
  },
  "language_info": {
   "codemirror_mode": {
    "name": "ipython",
    "version": 2
   },
   "file_extension": ".py",
   "mimetype": "text/x-python",
   "name": "python",
   "nbconvert_exporter": "python",
   "pygments_lexer": "ipython2",
   "version": "2.7.10"
  }
 },
 "nbformat": 4,
 "nbformat_minor": 2
}
