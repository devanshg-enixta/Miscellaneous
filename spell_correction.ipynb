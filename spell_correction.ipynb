{
 "cells": [
  {
   "cell_type": "code",
   "execution_count": 2,
   "metadata": {},
   "outputs": [],
   "source": [
    "from __future__ import absolute_import\n",
    "import re\n",
    "import kenlm\n",
    "from heapq import heapify\n",
    "from six.moves import range"
   ]
  },
  {
   "cell_type": "code",
   "execution_count": 3,
   "metadata": {},
   "outputs": [],
   "source": [
    "BEAM_WIDTH = 1024\n",
    "MODEL = None"
   ]
  },
  {
   "cell_type": "code",
   "execution_count": 4,
   "metadata": {},
   "outputs": [],
   "source": [
    "def get_model():\n",
    "    global MODEL\n",
    "    if MODEL is None:\n",
    "        MODEL = kenlm.Model('lm.binary')\n",
    "    return MODEL\n"
   ]
  },
  {
   "cell_type": "code",
   "execution_count": 5,
   "metadata": {},
   "outputs": [],
   "source": [
    "def words(text):\n",
    "    \"List of words in text.\"\n",
    "    return re.findall(r'\\w+', text.lower())\n"
   ]
  },
  {
   "cell_type": "code",
   "execution_count": 6,
   "metadata": {},
   "outputs": [],
   "source": [
    "def log_probability(sentence):\n",
    "    \"Log base 10 probability of `sentence`, a list of words\"\n",
    "    return get_model().score(' '.join(sentence), bos = False, eos = False)"
   ]
  },
  {
   "cell_type": "code",
   "execution_count": 7,
   "metadata": {},
   "outputs": [],
   "source": [
    "def correction(sentence):\n",
    "    \"Most probable spelling correction for sentence.\"\n",
    "    layer = [(0,[])]\n",
    "    for word in words(sentence):\n",
    "        layer = [(-log_probability(node + [cword]), node + [cword]) for cword in candidate_words(word) for priority, node in layer]\n",
    "        heapify(layer)\n",
    "        layer = layer[:BEAM_WIDTH]\n",
    "    return ' '.join(layer[0][1])"
   ]
  },
  {
   "cell_type": "code",
   "execution_count": 8,
   "metadata": {},
   "outputs": [],
   "source": [
    "def candidate_words(word):\n",
    "    \"Generate possible spelling corrections for word.\"\n",
    "    return (known_words([word]) or known_words(edits1(word)) or known_words(edits2(word)) or [word])\n"
   ]
  },
  {
   "cell_type": "code",
   "execution_count": 9,
   "metadata": {},
   "outputs": [],
   "source": [
    "def known_words(words):\n",
    "    \"The subset of `words` that appear in the dictionary of WORDS.\"\n",
    "    return set(w for w in words if w in WORDS)"
   ]
  },
  {
   "cell_type": "code",
   "execution_count": 10,
   "metadata": {},
   "outputs": [],
   "source": [
    "def edits1(word):\n",
    "    \"All edits that are one edit away from `word`.\"\n",
    "    letters    = 'abcdefghijklmnopqrstuvwxyz'\n",
    "    splits     = [(word[:i], word[i:])    for i in range(len(word) + 1)]\n",
    "    deletes    = [L + R[1:]               for L, R in splits if R]\n",
    "    transposes = [L + R[1] + R[0] + R[2:] for L, R in splits if len(R)>1]\n",
    "    replaces   = [L + c + R[1:]           for L, R in splits if R for c in letters]\n",
    "    inserts    = [L + c + R               for L, R in splits for c in letters]\n",
    "    return set(deletes + transposes + replaces + inserts)"
   ]
  },
  {
   "cell_type": "code",
   "execution_count": 11,
   "metadata": {},
   "outputs": [],
   "source": [
    "def edits2(word):\n",
    "    \"All edits that are two edits away from `word`.\"\n",
    "    return (e2 for e1 in edits1(word) for e2 in edits1(e1))"
   ]
  },
  {
   "cell_type": "code",
   "execution_count": 12,
   "metadata": {},
   "outputs": [],
   "source": [
    "with open('words.txt') as f:\n",
    "    WORDS = set(words(f.read()))"
   ]
  },
  {
   "cell_type": "code",
   "execution_count": null,
   "metadata": {},
   "outputs": [],
   "source": [
    "text=\"o have you ever gazed at the mood and stars and wondered wonderd what it would be like to floawt in the mighcro gravity of space or walk on the moon for thousands of years humans could only imagine whath those experiences would be like but in the twentieth century the dreams of human space flight became a reality when in nineteen sixty one the soviat unions eurigagarin first orbited the earth we an eight years of his launch neel arm strong was to utter what may be the most significant line in human history that's one small step for man one giant leap from mankind as he stepped on to the moon surface ol i'm churlain a professor in the department of healthinyr performance that the universty of oston and i will be your guide as we explored the history of human spatefloght from the musings of the authors an antiquity about space to the development of the powerful rockets which carried humans inti space through the earli successes and failures of the american and soviat union space programs to the permanent human presence of space in a variety of spacestations this course wo faseny an entertaying wil perbyinou insighte and little known facts about human spacefly ou te ar comination especially de bilop vilios and a varity of reedings dhi carswoln hanshere knowledce about the history of emen spaceflke i invite you to watch the demestration vide to learn about the basic design in the course and to see what i dis course is a must regardless of your background for anyone in stoid in humin spacellem\"\n",
    "correction(text)"
   ]
  },
  {
   "cell_type": "code",
   "execution_count": null,
   "metadata": {},
   "outputs": [],
   "source": []
  }
 ],
 "metadata": {
  "kernelspec": {
   "display_name": "Python 2",
   "language": "python",
   "name": "python2"
  },
  "language_info": {
   "codemirror_mode": {
    "name": "ipython",
    "version": 2
   },
   "file_extension": ".py",
   "mimetype": "text/x-python",
   "name": "python",
   "nbconvert_exporter": "python",
   "pygments_lexer": "ipython2",
   "version": "2.7.10"
  }
 },
 "nbformat": 4,
 "nbformat_minor": 2
}
